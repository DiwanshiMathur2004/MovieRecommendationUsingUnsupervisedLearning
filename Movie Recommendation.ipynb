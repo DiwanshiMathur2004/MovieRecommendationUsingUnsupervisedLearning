{
 "cells": [
  {
   "cell_type": "markdown",
   "id": "f6df0a80",
   "metadata": {},
   "source": [
    "## Introduction\n",
    "In today’s digital world, users are overwhelmed with the abundance of movie choices available across various platforms. As a result, deciding what to watch next has become increasingly difficult. Movie Recommendation Systems offer a practical solution to this issue by helping users discover movies tailored to their preferences, based on data and intelligent algorithms.\n",
    "\n",
    "This project aims to build a Content-Based Movie Recommendation System that suggests similar movies to a given title using various metadata features such as genre, overview, cast, crew, and keywords. The recommendations are based on the similarity between movies, allowing the system to offer personalized suggestions without the need for explicit user ratings or interaction history."
   ]
  },
  {
   "cell_type": "markdown",
   "id": "df838d94",
   "metadata": {},
   "source": [
    "## Technologies and Tools Used\n",
    "This project leverages the following tools and technologies:\n",
    "\n",
    "Python: Core programming language used for data processing and model development\n",
    "\n",
    "Pandas: For data cleaning, exploration, and manipulation of movie metadata\n",
    "\n",
    "NumPy: For numerical operations and efficient array handling\n",
    "\n",
    "Scikit-learn: For feature extraction (e.g., TF-IDF Vectorization) and similarity measurement using cosine similarity\n",
    "\n",
    "Natural Language Processing (NLP): To process and vectorize text data such as movie overviews and keywords\n",
    "\n",
    "Jupyter Notebook: For interactive development and visualization\n",
    "\n",
    "Matplotlib/Seaborn (optional): For data visualization and understanding patterns"
   ]
  },
  {
   "cell_type": "code",
   "execution_count": null,
   "id": "b2171ea3",
   "metadata": {},
   "outputs": [],
   "source": [
    "# Installing neccessary libraries here\n",
    "! pip install pandas\n",
    "! pip install numpy\n",
    "! pip install scikit-learn\n",
    "! pip install matplotlib"
   ]
  },
  {
   "cell_type": "code",
   "execution_count": 2,
   "id": "91978c38-d8a6-471c-a13d-dc5d4ce00bda",
   "metadata": {},
   "outputs": [],
   "source": [
    "#Importing necessary libraries\n",
    "import pandas as pd\n",
    "import numpy as np\n",
    "import ast  # for parsing genre strings\n",
    "from sklearn.preprocessing import MultiLabelBinarizer, MinMaxScaler\n",
    "from sklearn.cluster import KMeans"
   ]
  },
  {
   "cell_type": "code",
   "execution_count": 3,
   "id": "08c802fc-ca38-4836-8893-d51baab7dad2",
   "metadata": {},
   "outputs": [],
   "source": [
    "# Load the movie metadata CSV file\n",
    "df = pd.read_csv(\"movies_metadata.csv\", low_memory=False)"
   ]
  },
  {
   "cell_type": "code",
   "execution_count": 4,
   "id": "142ccb89-19f5-4e78-840b-991a1d33b413",
   "metadata": {},
   "outputs": [
    {
     "data": {
      "text/plain": [
       "Index(['adult', 'belongs_to_collection', 'budget', 'genres', 'homepage', 'id',\n",
       "       'imdb_id', 'original_language', 'original_title', 'overview',\n",
       "       'popularity', 'poster_path', 'production_companies',\n",
       "       'production_countries', 'release_date', 'revenue', 'runtime',\n",
       "       'spoken_languages', 'status', 'tagline', 'title', 'video',\n",
       "       'vote_average', 'vote_count'],\n",
       "      dtype='object')"
      ]
     },
     "execution_count": 4,
     "metadata": {},
     "output_type": "execute_result"
    }
   ],
   "source": [
    "#checking all the columns from datasets\n",
    "df.columns"
   ]
  },
  {
   "cell_type": "code",
   "execution_count": 5,
   "id": "3d246cfd-77cf-4750-8859-fa57ceb4fd14",
   "metadata": {},
   "outputs": [],
   "source": [
    "# We only need title, genres, vote_average, and popularity for this project\n",
    "movies = df[['title', 'genres', 'vote_average', 'popularity']].copy()"
   ]
  },
  {
   "cell_type": "code",
   "execution_count": 6,
   "id": "9d789cde-2bbf-4d0e-af9f-b618089d688b",
   "metadata": {},
   "outputs": [],
   "source": [
    "# Drop rows with missing values in important columns\n",
    "movies = movies.dropna(subset=['genres', 'vote_average', 'popularity'])"
   ]
  },
  {
   "cell_type": "code",
   "execution_count": 7,
   "id": "7a3ceebd-4ad3-4c89-9b99-658ca6eb2a97",
   "metadata": {},
   "outputs": [],
   "source": [
    "#Extract genre names from JSON-like string\n",
    "def parse_genres(genre_str):\n",
    "    \"\"\"Converts a string of genre dictionaries into a list of genre names.\"\"\"\n",
    "    try:\n",
    "        genres = ast.literal_eval(genre_str)\n",
    "        return [g['name'] for g in genres]\n",
    "    except:\n",
    "        return []\n",
    "\n",
    "# Apply the parsing function to each row\n",
    "movies['genre_list'] = movies['genres'].apply(parse_genres)"
   ]
  },
  {
   "cell_type": "code",
   "execution_count": 8,
   "id": "278b1641-0f09-45ff-a5ff-ac2ca38fbb13",
   "metadata": {},
   "outputs": [],
   "source": [
    "# This turns genre lists into binary features\n",
    "mlb = MultiLabelBinarizer()\n",
    "genre_encoded = mlb.fit_transform(movies['genre_list'])\n",
    "genre_df = pd.DataFrame(genre_encoded, columns=mlb.classes_)"
   ]
  },
  {
   "cell_type": "code",
   "execution_count": 9,
   "id": "52c28e45-d2b9-4866-b8b1-7ab6cc0a3766",
   "metadata": {},
   "outputs": [],
   "source": [
    "# We scale vote_average and popularity to range [0, 1]\n",
    "scaler = MinMaxScaler()\n",
    "scaled_features = scaler.fit_transform(movies[['vote_average', 'popularity']])\n",
    "scaled_df = pd.DataFrame(scaled_features, columns=['vote_average', 'popularity'])"
   ]
  },
  {
   "cell_type": "code",
   "execution_count": 10,
   "id": "49d6419a-e567-409b-9cf5-f270b3e36ce9",
   "metadata": {},
   "outputs": [],
   "source": [
    "#Combine all features into one matrix\n",
    "final_features = pd.concat([genre_df, scaled_df], axis=1)"
   ]
  },
  {
   "cell_type": "code",
   "execution_count": 11,
   "id": "a2bb3917-9cfa-4e79-8f51-189666872a58",
   "metadata": {},
   "outputs": [],
   "source": [
    "# Define number of clusters (this can be tuned)\n",
    "k = 20\n",
    "\n",
    "# Fit KMeans to our final feature matrix\n",
    "kmeans = KMeans(n_clusters=k, random_state=42)\n",
    "movies['cluster'] = kmeans.fit_predict(final_features)"
   ]
  },
  {
   "cell_type": "code",
   "execution_count": 12,
   "id": "6e27a0e7-b412-45eb-b484-f1cdc8b64e4f",
   "metadata": {},
   "outputs": [
    {
     "name": "stdout",
     "output_type": "stream",
     "text": [
      " Recommended movies similar to 'Toy Story':\n",
      "                                 title  vote_average popularity\n",
      "41695          Крепость: щитом и мечом          10.0   0.349582\n",
      "25689     Back to School with Franklin          10.0   0.040437\n",
      "20943                  King of Katoren           9.5    0.36934\n",
      "42155  Kizumonogatari Part 3: Reiketsu           9.4   3.519786\n",
      "30233                          Tony 10           9.0   0.412313\n"
     ]
    }
   ],
   "source": [
    "#Define recommendation function\n",
    "def recommend_movies(movie_title, n=5):\n",
    "    \"\"\"\n",
    "    Recommend similar movies based on genre, popularity, and rating using clustering.\n",
    "    \n",
    "    Parameters:\n",
    "        movie_title (str): Title of the movie to base recommendations on.\n",
    "        n (int): Number of similar movies to return.\n",
    "        \n",
    "    Returns:\n",
    "        pd.DataFrame: Top N recommended movies in the same cluster.\n",
    "    \"\"\"\n",
    "    # Lowercase comparison for robust matching\n",
    "    target = movies[movies['title'].str.lower() == movie_title.lower()]\n",
    "    \n",
    "    if target.empty:\n",
    "        return f\" Movie titled '{movie_title}' not found in dataset.\"\n",
    "    \n",
    "    # Get the cluster of the target movie\n",
    "    cluster_id = target['cluster'].values[0]\n",
    "    \n",
    "    # Get all movies from the same cluster\n",
    "    similar_movies = movies[(movies['cluster'] == cluster_id) & \n",
    "                            (movies['title'].str.lower() != movie_title.lower())]\n",
    "    \n",
    "    # Return top N based on vote_average and popularity\n",
    "    return similar_movies[['title', 'vote_average', 'popularity']].sort_values(\n",
    "        by=['vote_average', 'popularity'], ascending=False).head(n)\n",
    "\n",
    "\n",
    "# Example usage:\n",
    "\n",
    "print(\" Recommended movies similar to 'Toy Story':\")\n",
    "print(recommend_movies(\"Toy Story\", n=5))"
   ]
  },
  {
   "cell_type": "code",
   "execution_count": null,
   "id": "6556256f-03a7-47bd-9dd2-b97424cda42c",
   "metadata": {},
   "outputs": [],
   "source": []
  }
 ],
 "metadata": {
  "kernelspec": {
   "display_name": "Python 3",
   "language": "python",
   "name": "python3"
  },
  "language_info": {
   "codemirror_mode": {
    "name": "ipython",
    "version": 3
   },
   "file_extension": ".py",
   "mimetype": "text/x-python",
   "name": "python",
   "nbconvert_exporter": "python",
   "pygments_lexer": "ipython3",
   "version": "3.11.0"
  }
 },
 "nbformat": 4,
 "nbformat_minor": 5
}
